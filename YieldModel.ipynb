{
 "cells": [
  {
   "cell_type": "code",
   "execution_count": 8,
   "id": "4b603ee0-f231-420c-b45f-021440caada7",
   "metadata": {},
   "outputs": [],
   "source": [
    "import pandas as pd\n",
    "import numpy as np\n",
    "import re\n",
    "from datetime import datetime\n",
    "from sklearn import model_selection"
   ]
  },
  {
   "cell_type": "code",
   "execution_count": 9,
   "id": "76f333f0-d70d-4a0c-87c3-11cb5842a177",
   "metadata": {},
   "outputs": [],
   "source": [
    "path = \"C:\\\\Users\\\\Ivand\\\\Repos\\\\banks\\\\data\""
   ]
  },
  {
   "cell_type": "code",
   "execution_count": 10,
   "id": "63d64c33-4df0-4c83-8a9e-4b2c974c0ca3",
   "metadata": {},
   "outputs": [],
   "source": [
    "df_banks = pd.read_csv(path + \"\\\\BanksDFPrepared.csv\")\n",
    "df_banks.drop(df_banks.columns[0], axis = 1, inplace = True)\n",
    "df_bonds = pd.read_csv(path + \"\\\\BondsPrepared.csv\")\n",
    "df_bonds.drop(df_bonds.columns[0], axis = 1, inplace = True)\n",
    "df_bonds = df_bonds.rename({\"cregnum\" : \"REGN\"}, axis = 1)\n",
    "\n"
   ]
  },
  {
   "cell_type": "code",
   "execution_count": 11,
   "id": "b28ab517-f06f-4666-a65d-1fd802be10fa",
   "metadata": {},
   "outputs": [],
   "source": [
    "df = df_bonds.merge(df_banks, how = \"left\", on = [\"REGN\", \"Year\", \"Month\"])\n",
    "df_full = df.copy()"
   ]
  },
  {
   "cell_type": "code",
   "execution_count": 12,
   "id": "50c53767-16bb-482c-85dc-ca9432a49d11",
   "metadata": {},
   "outputs": [],
   "source": [
    "df.drop([\"ISIN\"], axis = 1, inplace = True)"
   ]
  },
  {
   "cell_type": "code",
   "execution_count": 13,
   "id": "fc356ac1-490f-4226-aa35-e61c35ac2971",
   "metadata": {},
   "outputs": [],
   "source": [
    "df = pd.get_dummies(df, columns = [\"Moodys\", \"ExpertRA\"], drop_first = True)"
   ]
  },
  {
   "cell_type": "code",
   "execution_count": 14,
   "id": "1965ab62-e1b5-4fb8-b36a-7830f9d0d102",
   "metadata": {},
   "outputs": [],
   "source": [
    "df = df[~df.NetIncome.isnull()]\n",
    "df.loc[df.Coupon.isnull(), \"Coupon\"] = 0\n",
    "df.loc[df.Coupon_accum.isnull(), \"Coupon_accum\"] = 0"
   ]
  },
  {
   "cell_type": "raw",
   "id": "675e9776-6642-4c30-b8a3-2f67bb63675e",
   "metadata": {},
   "source": [
    "seed = 42\n",
    "X = df.drop(['Indicative_price', 'YTM_ind','RF_interpolated', 'G_spread_interpolated'], axis = 1)\n",
    "\n",
    "Y = df['G_spread_interpolated']\n",
    "\n",
    "X_train, X_test, Y_train, Y_test =\\\n",
    "                    model_selection.train_test_split(X, Y, test_size=0.2, random_state=seed)\n",
    "\n",
    "X_train.reset_index(inplace=True, drop=True)\n",
    "X_test.reset_index(inplace=True, drop=True)"
   ]
  },
  {
   "cell_type": "code",
   "execution_count": 15,
   "id": "8fd9fa1d-b138-47dc-8611-94902a975fb9",
   "metadata": {},
   "outputs": [],
   "source": [
    "X_and_y_banks = df.REGN\n",
    "X_and_y_banks = X_and_y_banks.unique()\n",
    "X_and_y_banks_test = np.random.choice(X_and_y_banks, round(len(X_and_y_banks)/5))\n",
    "\n",
    "X = df.drop(['Indicative_price', 'YTM_ind','RF_interpolated', 'G_spread_interpolated'], axis = 1)\n",
    "y = df['G_spread_interpolated']\n",
    "\n",
    "X_and_y_test_KNN = df[df.REGN.isin(X_and_y_banks_test)]\n",
    "X_and_y_train_KNN = df[~df.REGN.isin(X_and_y_banks_test)]\n",
    "\n",
    "X_test_KNN = X_and_y_test_KNN.drop(['G_spread_interpolated'], axis = 1)\n",
    "X_train_KNN = X_and_y_train_KNN.drop(['G_spread_interpolated'], axis = 1)\n",
    "y_test_KNN = X_and_y_test_KNN['G_spread_interpolated']\n",
    "y_train_KNN = X_and_y_train_KNN['G_spread_interpolated']\n",
    "\n",
    "X_train_KNN.reset_index(inplace=True, drop=True)\n",
    "X_test_KNN.reset_index(inplace=True, drop=True)\n",
    "y_train_KNN.reset_index(inplace=True, drop=True)\n",
    "y_test_KNN.reset_index(inplace=True, drop=True)"
   ]
  },
  {
   "cell_type": "code",
   "execution_count": 16,
   "id": "def634fb-94c2-4752-b56b-55fdbb28e5f4",
   "metadata": {},
   "outputs": [
    {
     "name": "stdout",
     "output_type": "stream",
     "text": [
      "number_of_columns\n"
     ]
    },
    {
     "data": {
      "text/html": [
       "<div>\n",
       "<style scoped>\n",
       "    .dataframe tbody tr th:only-of-type {\n",
       "        vertical-align: middle;\n",
       "    }\n",
       "\n",
       "    .dataframe tbody tr th {\n",
       "        vertical-align: top;\n",
       "    }\n",
       "\n",
       "    .dataframe thead th {\n",
       "        text-align: right;\n",
       "    }\n",
       "</style>\n",
       "<table border=\"1\" class=\"dataframe\">\n",
       "  <thead>\n",
       "    <tr style=\"text-align: right;\">\n",
       "      <th></th>\n",
       "      <th>Month</th>\n",
       "    </tr>\n",
       "  </thead>\n",
       "  <tbody>\n",
       "    <tr>\n",
       "      <th>0</th>\n",
       "      <td>1</td>\n",
       "    </tr>\n",
       "    <tr>\n",
       "      <th>1</th>\n",
       "      <td>2</td>\n",
       "    </tr>\n",
       "    <tr>\n",
       "      <th>2</th>\n",
       "      <td>3</td>\n",
       "    </tr>\n",
       "    <tr>\n",
       "      <th>3</th>\n",
       "      <td>4</td>\n",
       "    </tr>\n",
       "    <tr>\n",
       "      <th>4</th>\n",
       "      <td>5</td>\n",
       "    </tr>\n",
       "    <tr>\n",
       "      <th>...</th>\n",
       "      <td>...</td>\n",
       "    </tr>\n",
       "    <tr>\n",
       "      <th>29792</th>\n",
       "      <td>9</td>\n",
       "    </tr>\n",
       "    <tr>\n",
       "      <th>29793</th>\n",
       "      <td>11</td>\n",
       "    </tr>\n",
       "    <tr>\n",
       "      <th>29794</th>\n",
       "      <td>12</td>\n",
       "    </tr>\n",
       "    <tr>\n",
       "      <th>29795</th>\n",
       "      <td>7</td>\n",
       "    </tr>\n",
       "    <tr>\n",
       "      <th>29796</th>\n",
       "      <td>8</td>\n",
       "    </tr>\n",
       "  </tbody>\n",
       "</table>\n",
       "<p>28340 rows × 1 columns</p>\n",
       "</div>"
      ],
      "text/plain": [
       "       Month\n",
       "0          1\n",
       "1          2\n",
       "2          3\n",
       "3          4\n",
       "4          5\n",
       "...      ...\n",
       "29792      9\n",
       "29793     11\n",
       "29794     12\n",
       "29795      7\n",
       "29796      8\n",
       "\n",
       "[28340 rows x 1 columns]"
      ]
     },
     "execution_count": 16,
     "metadata": {},
     "output_type": "execute_result"
    }
   ],
   "source": [
    "class AbstractModule():\n",
    "    def __init__(self):\n",
    "        pass\n",
    "    \n",
    "    def set_params(self, **params):\n",
    "        params = list(params.values())[0]\n",
    "        for key in list(params.keys()):\n",
    "            print(key)\n",
    "            setattr(self, key, params[key])\n",
    "        return self \n",
    "    \n",
    "    def fit(self, X, y = None):\n",
    "        pass\n",
    "    \n",
    "    def transform(self, X, y = None):\n",
    "        pass\n",
    "    \n",
    "\n",
    "\n",
    "class Limiter(AbstractModule):\n",
    "    def __init__(self, desired_columns, number_of_columns):\n",
    "        super().__init__()\n",
    "        self.desired_columns = desired_columns\n",
    "        self.number_of_columns = number_of_columns\n",
    "        \n",
    "\n",
    "    \n",
    "    def fit(self, X, y = None):\n",
    "        self.X = X[self.desired_columns[:self.number_of_columns]]\n",
    "        return self \n",
    "    \n",
    "    def transform(self, X, y = None):\n",
    "        return self.X\n",
    "    \n",
    "\n",
    "    \n",
    "m = Limiter(['Month', 'Year', 'BA_spread', 'Indicative_price',\n",
    "       'Turnover', 'Volume', 'Coupon', 'YTM_ind'], 11)\n",
    "setparams = {\"number_of_columns\" : 1}\n",
    "m.set_params(params = setparams)\n",
    "m.fit(df)\n",
    "m.transform(df)"
   ]
  },
  {
   "cell_type": "code",
   "execution_count": 33,
   "id": "8bf22ab9-618e-45d4-9bb9-f622bedc9f9d",
   "metadata": {},
   "outputs": [],
   "source": [
    "import pipeline_demo_module as pipe\n",
    "from importlib import reload\n",
    "pipe = reload(pipe)"
   ]
  },
  {
   "cell_type": "code",
   "execution_count": 18,
   "id": "d1f89a61-d1dc-42a1-b0a8-334c5d0d49f1",
   "metadata": {},
   "outputs": [
    {
     "name": "stdout",
     "output_type": "stream",
     "text": [
      "1. Define modules separately (separate_modules_hint)\n",
      "\n",
      "<variable for module i> = <module function i> for i in modules\n",
      "\n",
      "2. Define modules dictionary (dictionary_modules_hint)\n",
      "\n",
      "<dictionary name> = {'<module name string i>' :\n",
      " <variable for module i> for i in modules}\n",
      "\n",
      "3. Define parameters pipeline (pipeline_modules_hint)\n",
      "\n",
      "<pipeline modules variable name> = {'<pipeline stage name j>' :\n",
      " hp.choice('<pipeline stage name j>', ['<module name string i>' for i in modules of stage j]) for j in stages}\n",
      "'skip' as '<module name string i>' if you want to try doing nothing on the stage\n",
      "\n",
      "4. Define hyperparameters dictionary (hyper_hint)\n",
      "\n",
      "<modules hyperparameters list variable name> = {'<module name string i>__<parameter k name>' :\n",
      " [<parameter k value option m> for m in a list of possible values] for k in hyperparameters of module i, for i in modules}\n",
      "\n",
      "5. Define loss function\n",
      "6. Gather modules, parameters and loss into a dictionary (use gather_function)\n",
      "7. Run optimizer\n"
     ]
    }
   ],
   "source": [
    "pipe.algorithm_hint(True)"
   ]
  },
  {
   "cell_type": "code",
   "execution_count": 19,
   "id": "08b4e8e0-5a78-453b-b7aa-b4a4f357ec86",
   "metadata": {},
   "outputs": [],
   "source": [
    "from sklearn.neighbors import KNeighborsRegressor\n",
    "from sklearn.linear_model import LogisticRegression\n",
    "from sklearn.svm import SVR\n",
    "from sklearn.ensemble import RandomForestRegressor\n",
    "from mlxtend.feature_selection import SequentialFeatureSelector\n",
    "from sklearn.linear_model import LinearRegression\n",
    "from sklearn.preprocessing import StandardScaler\n"
   ]
  },
  {
   "cell_type": "code",
   "execution_count": 20,
   "id": "217722c6-3d52-4a2a-9bfa-7c7f76817d99",
   "metadata": {},
   "outputs": [
    {
     "data": {
      "text/plain": [
       "array([-0.08299059, -0.10577639, -0.09250348, ...,  0.01726247,\n",
       "        0.05479509, -0.02209107])"
      ]
     },
     "execution_count": 20,
     "metadata": {},
     "output_type": "execute_result"
    }
   ],
   "source": [
    "estimator= LinearRegression(n_jobs = -1)\n",
    "estimator.fit(X, y)\n",
    "estimator.predict(X)"
   ]
  },
  {
   "cell_type": "raw",
   "id": "28ee77b6-dbec-4437-8ad4-f1e0279561c9",
   "metadata": {},
   "source": [
    "selection = SequentialFeatureSelector(\n",
    "    estimator=LinearRegression(n_jobs = -1),  # базовая модель\n",
    "    k_features=30,                                                 # сколько фичей хотим в итоге\n",
    "    forward=True,                                                 # как отбираем: от нуля - forward или ото всех - backward\n",
    "    floating=True,                                                # исключаем ли переменные\n",
    "    verbose=1,\n",
    "    cv=3\n",
    ")\n",
    "\n",
    "selection.fit(X, y)\n",
    "best_linear_columns = list(selection.k_feature_names_)"
   ]
  },
  {
   "cell_type": "code",
   "execution_count": 21,
   "id": "3390ef37-e705-4880-9cf0-33980fb35a9b",
   "metadata": {},
   "outputs": [
    {
     "ename": "NameError",
     "evalue": "name 'best_linear_columns' is not defined",
     "output_type": "error",
     "traceback": [
      "\u001b[1;31m---------------------------------------------------------------------------\u001b[0m",
      "\u001b[1;31mNameError\u001b[0m                                 Traceback (most recent call last)",
      "\u001b[1;32m<ipython-input-21-0e5cb983878b>\u001b[0m in \u001b[0;36m<module>\u001b[1;34m\u001b[0m\n\u001b[1;32m----> 1\u001b[1;33m \u001b[0mbest_linear_columns\u001b[0m\u001b[1;33m\u001b[0m\u001b[1;33m\u001b[0m\u001b[0m\n\u001b[0m",
      "\u001b[1;31mNameError\u001b[0m: name 'best_linear_columns' is not defined"
     ]
    }
   ],
   "source": [
    "best_linear_columns"
   ]
  },
  {
   "cell_type": "raw",
   "id": "175efb3e-785b-4488-bcfe-9bdf08a6f004",
   "metadata": {},
   "source": [
    "\n",
    "KNN = KNeighborsRegressor(n_neighbors=5,\n",
    "                           weights='uniform',\n",
    "                           algorithm='auto',\n",
    "                           leaf_size=30,\n",
    "                           p=2,\n",
    "                           metric='minkowski',\n",
    "                           metric_params=None)\n",
    "\n",
    "selection = SequentialFeatureSelector(\n",
    "    estimator=KNN,  # базовая модель\n",
    "    k_features=30,                                                 # сколько фичей хотим в итоге\n",
    "    forward=True,                                                 # как отбираем: от нуля - forward или ото всех - backward\n",
    "    floating=True,                                                # исключаем ли переменные\n",
    "    verbose=1,\n",
    "    cv=3\n",
    ")\n",
    "\n",
    "selection.fit(X, y)\n",
    "best_knn_columns = list(selection.k_feature_names_)"
   ]
  },
  {
   "cell_type": "code",
   "execution_count": 23,
   "id": "2bc87e92-ec2d-4a22-a183-1648fe1c756f",
   "metadata": {},
   "outputs": [],
   "source": [
    "best_knn_columns = ['MoscowSE',\n",
    " 'NetInvestmentIncome',\n",
    " 'BadBorrowing_Me',\n",
    " 'CoreFunds_CBR',\n",
    " 'Revaluation_CBR',\n",
    " 'personal_page',\n",
    " 'app',\n",
    " 'foreign',\n",
    " 'ownership_state',\n",
    " 'form_public',\n",
    " 'region_notmoscow',\n",
    " 'NoMoodys',\n",
    " 'Moodys_B2',\n",
    " 'Moodys_B3',\n",
    " 'Moodys_Ba1',\n",
    " 'Moodys_Ba2',\n",
    " 'Moodys_Ba3',\n",
    " 'Moodys_Baa3',\n",
    " 'Moodys_C',\n",
    " 'Moodys_withdrawn',\n",
    " 'ExpertRA_B',\n",
    " 'ExpertRA_C',\n",
    " 'ExpertRA_no',\n",
    " 'ExpertRA_ruA',\n",
    " 'ExpertRA_ruAA',\n",
    " 'ExpertRA_ruAAA',\n",
    " 'ExpertRA_ruB',\n",
    " 'ExpertRA_ruBBB',\n",
    " 'ExpertRA_ruC',\n",
    " 'ExpertRA_withdrawn']\n",
    "\n",
    "best_linear_columns = ['Month',\n",
    " 'Turnover',\n",
    " 'NumberOfInstances',\n",
    " 'MoscowSE',\n",
    " 'NetFeeIncome',\n",
    " 'NetInvestmentIncome',\n",
    " 'NetInterestIncome',\n",
    " 'Assets',\n",
    " 'Securities',\n",
    " 'LendCorporate_Me',\n",
    " 'ShareCapitalParticipation_CBR',\n",
    " 'Revaluation_CBR',\n",
    " 'RiskFree_norm',\n",
    " 'CapitalAdequacy_norm',\n",
    " 'LiquidityMonth_norm',\n",
    " 'HighlyLiquidAssets_norm',\n",
    " 'LiquidityDay_norm',\n",
    " 'ShortCreditAssets_norm',\n",
    " 'LiquidityLong_norm',\n",
    " 'NoMoodys',\n",
    " 'Moodys_B2',\n",
    " 'Moodys_Ba2',\n",
    " 'Moodys_Ba3',\n",
    " 'Moodys_C',\n",
    " 'ExpertRA_B',\n",
    " 'ExpertRA_no',\n",
    " 'ExpertRA_ruA',\n",
    " 'ExpertRA_ruB',\n",
    " 'ExpertRA_ruBB',\n",
    " 'ExpertRA_ruC']"
   ]
  },
  {
   "cell_type": "code",
   "execution_count": 24,
   "id": "35154632-15c5-4b68-85df-1f8a52a86c1d",
   "metadata": {},
   "outputs": [],
   "source": [
    "\n",
    "\n",
    "Limit_module = Limiter(desired_columns = best_linear_columns, \n",
    "                           number_of_columns = 10)\n",
    "\n",
    "PCA_module = pipe.PCA_adj(\n",
    "    n_components = 2,    # сколько оставить компонентов; по дефолту - все\n",
    "    whiten = False,      # отключаем whitening - декорреляцию фичей\n",
    "    svd_solver = \"full\", # детали SVD преобразования, за подробностями см. доки\n",
    ")\n",
    "\n",
    "kPCA_module = pipe.KernelPCA_adj(\n",
    "    n_components = 8,  # сколько оставить компонентов; по дефолту - все\n",
    "    kernel = \"linear\", # ядро. По дфеолту линейное. Можно сделать своё, но тогда его нужно предварительно вычислить отдельно,\n",
    "                       # поставить kernel = \"precomputed\" и передать уже вычисленное ядро в качестве X\n",
    "    degree = 3,        # степень полинома для некоторых типов ядер. Важный параметр для тьюнинга, но сильно напрягает процессор\n",
    "    n_jobs = -1        # объект умеет быть многопоточным! -1 займет все ядра\n",
    ")\n",
    "\n",
    "Isomap_module = pipe.Isomap_adj(\n",
    "    n_neighbors = 5, #количество соседей при вычислении KNN. Основной гиперпараметр, кстати (!!!)\n",
    "    n_components = 2,  #сколько оставить компонент; по дефолту - 2\n",
    "    path_method = \"auto\", #алгоритм, который вычисляет кратчайший путь. Варианты см. на странице функции. Этот подбирает сам.\n",
    "    neighbors_algorithm = \"auto\", #алгоритм, который ищет соседей. Инстанс класса NearestNeighbours\n",
    "    n_jobs = -1 #объект умеет быть многопоточным! -1 займет все ядра\n",
    ")\n",
    "\n",
    "UMAP_module = pipe.UMAP_adj(\n",
    "    n_neighbors = 5,  # количество соседей при вычислении KNN. Основной гиперпараметр, кстати (!!!)\n",
    "    n_components = 2, # сколько оставить компонентов; по дефолту - 2\n",
    "    min_dist = 0.1    # минимальная дистанция, которую можно сохранять между точками в получающемся пространстве. Гиперпараметр. При увеличении начинает лучше улавливать общую структуру, но хуже - локальную\n",
    ")\n",
    "\n",
    "StScal = StandardScaler()\n",
    "\n",
    "\n",
    "Basic = LinearRegression(n_jobs = -1)\n",
    "\n",
    "KNN = KNeighborsRegressor(n_neighbors=5,\n",
    "                           weights='uniform',\n",
    "                           algorithm='auto',\n",
    "                           leaf_size=30,\n",
    "                           p=2,\n",
    "                           metric='minkowski',\n",
    "                           metric_params=None)\n",
    "SVM = SVR(kernel='rbf',\n",
    "          degree=3,\n",
    "          gamma='scale',\n",
    "          coef0=0.0,\n",
    "          C=1.0, \n",
    "          epsilon=0.1,\n",
    "          shrinking=True)\n",
    "\n",
    "RF = RandomForestRegressor(n_estimators=100, \n",
    "                           criterion='squared_error',\n",
    "                           max_depth=None,\n",
    "                           min_samples_split=2,\n",
    "                           min_samples_leaf=1,\n",
    "                           min_weight_fraction_leaf=0.0,\n",
    "                           max_features='auto',\n",
    "                           max_leaf_nodes=None,\n",
    "                           min_impurity_decrease=0.0,\n",
    "                           bootstrap=True, \n",
    "                           oob_score=False, \n",
    "                           n_jobs=-1,\n",
    "                           ccp_alpha=0.0)"
   ]
  },
  {
   "cell_type": "code",
   "execution_count": 25,
   "id": "adad55e2-c2fe-499f-aab1-d661d4063535",
   "metadata": {},
   "outputs": [],
   "source": [
    "modules = {\n",
    "    \"Limiter\" : Limit_module,\n",
    "    'PCA':         PCA_module,\n",
    "    'kPCA':        kPCA_module,\n",
    " #   'Isomap':      Isomap_module,\n",
    "    'UMAP':        UMAP_module,\n",
    "    \"StScal\" : StScal,\n",
    "    \"Basic\" : Basic,\n",
    "    \"KNN\" : KNN,\n",
    "    \"SVR\" : SVM,\n",
    "    \"RF\" : RF\n",
    "}"
   ]
  },
  {
   "cell_type": "code",
   "execution_count": 26,
   "id": "551940a2-d434-4e09-8619-576fe8841d36",
   "metadata": {},
   "outputs": [],
   "source": [
    "pipeline_modules = {\n",
    "    \"Restrict\" : pipe.hp.choice(\"Restrict\", [\"skip\", \"Limiter\"]),\n",
    "    \"Transform\" : pipe.hp.choice(\"Transform\", [\"skip\", \"PCA\", \"kPCA\", \"UMAP\"]),\n",
    "    \"Scale\" : pipe.hp.choice(\"Scale\", [\"StScal\", \"skip\"]),\n",
    "    \"Model\" : pipe.hp.choice(\"Model\", [\"Basic\", \"KNN\", \"SVR\", \"RF\"])\n",
    "}"
   ]
  },
  {
   "cell_type": "code",
   "execution_count": 27,
   "id": "ac6eb785-5aac-49ec-b49a-1681bd319ce5",
   "metadata": {},
   "outputs": [],
   "source": [
    "hyper_modules = {\n",
    "    \"Restrict_Limiter__desired_columns\" : pipe.hp.choice(\"Limiter__desired_columns\", [best_linear_columns, best_knn_columns]),\n",
    "    \"Limiter__number_of_columns\" : pipe.hp.choice(\"Limiter__number_of_columns\", [10, 15, 25, 30]),\n",
    "    \"Transform_PCA__n_components\" : pipe.hp.choice(\"PCA__n_components\", [10, 30, 50]),\n",
    "    \"Transform_PCA__whiten\" : pipe.hp.choice(\"PCA__whiten\", [True, False]),\n",
    "    \"Transform_kPCA__n_components\" : pipe.hp.choice(\"kPCA__n_components\", [10, 30, 50]),\n",
    "    \"Transform_kPCA__kernel\" : pipe.hp.choice(\"kPCA__kernel\", [\"poly\", \"rbf\"]),\n",
    "    \"Transform_kPCA__degree\" : pipe.hp.choice(\"kPCA__degree\", [1,2,3]),\n",
    "    \"Transform_UMAP__n_components\" : pipe.hp.choice(\"UMAP__n_components\", [10, 30, 50]),\n",
    "    \"Transform_UMAP__n_neighbours\" : pipe.hp.choice(\"UMAP__n_neighbours\", [2,3,5,10]),\n",
    "    \"Transform_UMAP__min_dist\" : pipe.hp.choice(\"UMAP__min_dist\", [0.05, 0.1,0.5, 1]),\n",
    "    \"Model_KNN__n_neighbours\" : pipe.hp.choice(\"KNN__n_neighbours\", [2, 5, 10]),\n",
    "    \"Model_KNN__weights\" : pipe.hp.choice(\"KNN__weights\", [\"uniform\", \"distance\"]),\n",
    "    \"Model_KNN__leaf_size\" : pipe.hp.choice(\"KNN__leaf_size\", [10, 20, 30]),\n",
    "    \"Model_KNN__p\" : pipe.hp.choice(\"KNN__p\", [1, 2, 1.5]),\n",
    "    \"Model_SVR__kernel\" : pipe.hp.choice(\"SVR__kernel\", [\"poly\", \"rbf\", \"sigmoid\"]),\n",
    "    \"Model_SVR__degree\" : pipe.hp.choice(\"SVR__degree\", [1,2,3]),\n",
    "    \"Model_SVR__C\" : pipe.hp.choice(\"SVR__C\", [0.1, 1, 10]),\n",
    "    \"Model_RF__criterion\" : pipe.hp.choice(\"RF__criterion\", [\"squared_error\", \"poisson\"]),\n",
    "    \"Model_RF__max_depth\" : pipe.hp.choice(\"RF__max_depth\", [None, 10, 20])\n",
    "}"
   ]
  },
  {
   "cell_type": "code",
   "execution_count": 28,
   "id": "7d0752a1-db12-458f-8284-f866904b6ddd",
   "metadata": {},
   "outputs": [],
   "source": [
    "pipeline_modules = {\n",
    "    \"Restrict\" : pipe.hp.choice(\"Restrict\", [\"skip\", \"Limiter\"]),\n",
    "    \"Transform\" : pipe.hp.choice(\"Transform\", [\"skip\", \"PCA\"]),\n",
    "    \"Scale\" : pipe.hp.choice(\"Scale\", [\"StScal\", \"skip\"]),\n",
    "    \"Model\" : \"Basic\"\n",
    "}"
   ]
  },
  {
   "cell_type": "code",
   "execution_count": 29,
   "id": "7b106702-94e6-43a8-87c6-4cc37061a117",
   "metadata": {},
   "outputs": [],
   "source": [
    "def optimizer(X_train, y_train, pipe_para, modules, mode = \"kfold\", kfold_variable = None):\n",
    "    hpoptimizer = PipeHPOpt(X_train, y_train, modules=modules, mode='kfold', n_folds = 5, seed=42, kfold_variable = None)\n",
    "    lgb_opt, trials = hpoptimizer.process(space=pipe_para, trials=Trials(), algo=tpe.suggest, max_evals=10)\n",
    "    return hpoptimizer"
   ]
  },
  {
   "cell_type": "code",
   "execution_count": 30,
   "id": "805a748d-d6bc-4e97-94ca-0d1371045ed4",
   "metadata": {},
   "outputs": [
    {
     "data": {
      "text/plain": [
       "False"
      ]
     },
     "execution_count": 30,
     "metadata": {},
     "output_type": "execute_result"
    }
   ],
   "source": [
    "hasattr(LinearRegression, \"fit_resample \")"
   ]
  },
  {
   "cell_type": "code",
   "execution_count": 47,
   "id": "047475ea-f304-4ca7-9cf6-a788edca1db3",
   "metadata": {},
   "outputs": [],
   "source": [
    "import pipeline_demo_module as pipe\n",
    "from importlib import reload\n",
    "pipe = reload(pipe)\n",
    "\n",
    "\n",
    "loss = lambda y, pred: mean_squared_error(y, pred)\n",
    "# gathered_pipeline = pipe.gather_function(pipeline_modules, hyper_modules, loss)\n",
    "# best_model = pipe.optimizer(X, y, gathered_pipeline, modules = modules, mode = \"kfold_variable\", kfold_variable = \"REGN\")"
   ]
  },
  {
   "cell_type": "code",
   "execution_count": 48,
   "id": "b75fa508-2f8d-4754-9c15-d91e6a03b73f",
   "metadata": {},
   "outputs": [
    {
     "name": "stdout",
     "output_type": "stream",
     "text": [
      "  0%|                                                                           | 0/10 [00:00<?, ?trial/s, best loss=?]"
     ]
    },
    {
     "name": "stderr",
     "output_type": "stream",
     "text": [
      "job exception: All intermediate steps of the chain should be estimators that implement fit and transform or fit_resample (but not both) or be a string 'passthrough' 'LinearRegression(n_jobs=-1)' (type <class 'sklearn.linear_model._base.LinearRegression'>) doesn't)\n",
      "\n"
     ]
    },
    {
     "name": "stdout",
     "output_type": "stream",
     "text": [
      "  0%|                                                                           | 0/10 [00:00<?, ?trial/s, best loss=?]\n"
     ]
    }
   ],
   "source": [
    "hpoptimizer = pipe.PipeHPOpt(X, y, modules=modules, task = \"regression\", pipe_para = gathered_pipeline, mode='kfold', n_folds = 5, seed=42, kfold_variable = None)\n",
    "lgb_opt, trials = hpoptimizer.process(space=gathered_pipeline, trials=pipe.Trials(), algo=pipe.tpe.suggest, max_evals=10)"
   ]
  },
  {
   "cell_type": "code",
   "execution_count": 195,
   "id": "2bfbe026-d686-40d9-90f7-c659677d6288",
   "metadata": {},
   "outputs": [
    {
     "data": {
      "text/plain": [
       "<pipeline_demo_module.PipeHPOpt at 0x20c8c3fd610>"
      ]
     },
     "execution_count": 195,
     "metadata": {},
     "output_type": "execute_result"
    }
   ],
   "source": [
    "hpoptimizer"
   ]
  },
  {
   "cell_type": "code",
   "execution_count": 184,
   "id": "c7125b3d-5788-4012-9bcd-bfcb41e237ed",
   "metadata": {},
   "outputs": [
    {
     "ename": "NameError",
     "evalue": "name 'LGBMClassifier' is not defined",
     "output_type": "error",
     "traceback": [
      "\u001b[1;31m---------------------------------------------------------------------------\u001b[0m",
      "\u001b[1;31mNameError\u001b[0m                                 Traceback (most recent call last)",
      "\u001b[1;32m<ipython-input-184-47ef70a6659f>\u001b[0m in \u001b[0;36m<module>\u001b[1;34m\u001b[0m\n\u001b[1;32m----> 1\u001b[1;33m lgbm_mdl = LGBMClassifier(\n\u001b[0m\u001b[0;32m      2\u001b[0m     \u001b[0mnum_leaves\u001b[0m \u001b[1;33m=\u001b[0m \u001b[1;36m10\u001b[0m\u001b[1;33m,\u001b[0m\u001b[1;33m\u001b[0m\u001b[1;33m\u001b[0m\u001b[0m\n\u001b[0;32m      3\u001b[0m     \u001b[0mlearning_rate\u001b[0m \u001b[1;33m=\u001b[0m \u001b[1;36m.1\u001b[0m\u001b[1;33m,\u001b[0m\u001b[1;33m\u001b[0m\u001b[1;33m\u001b[0m\u001b[0m\n\u001b[0;32m      4\u001b[0m     \u001b[0mreg_alpha\u001b[0m \u001b[1;33m=\u001b[0m \u001b[1;36m8\u001b[0m\u001b[1;33m,\u001b[0m\u001b[1;33m\u001b[0m\u001b[1;33m\u001b[0m\u001b[0m\n\u001b[0;32m      5\u001b[0m     \u001b[0mreg_lambda\u001b[0m \u001b[1;33m=\u001b[0m \u001b[1;36m8\u001b[0m\u001b[1;33m,\u001b[0m\u001b[1;33m\u001b[0m\u001b[1;33m\u001b[0m\u001b[0m\n",
      "\u001b[1;31mNameError\u001b[0m: name 'LGBMClassifier' is not defined"
     ]
    }
   ],
   "source": [
    "\n",
    "lgbm_mdl = LGBMClassifier(\n",
    "    num_leaves = 10,\n",
    "    learning_rate = .1,\n",
    "    reg_alpha = 8,\n",
    "    reg_lambda = 8,\n",
    "    random_state = seed\n",
    ")\n"
   ]
  },
  {
   "cell_type": "code",
   "execution_count": 146,
   "id": "d47ebbeb-c830-4a80-b871-df97f7935de5",
   "metadata": {},
   "outputs": [
    {
     "data": {
      "text/plain": [
       "0"
      ]
     },
     "execution_count": 146,
     "metadata": {},
     "output_type": "execute_result"
    }
   ],
   "source": [
    "import os\n",
    "os.system(\"rundll32.exe powrprof.dll,SetSuspendState 0,1,0\")"
   ]
  }
 ],
 "metadata": {
  "kernelspec": {
   "display_name": "Python 3",
   "language": "python",
   "name": "python3"
  },
  "language_info": {
   "codemirror_mode": {
    "name": "ipython",
    "version": 3
   },
   "file_extension": ".py",
   "mimetype": "text/x-python",
   "name": "python",
   "nbconvert_exporter": "python",
   "pygments_lexer": "ipython3",
   "version": "3.8.8"
  }
 },
 "nbformat": 4,
 "nbformat_minor": 5
}
